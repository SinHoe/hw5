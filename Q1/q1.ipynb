{
 "cells": [
  {
   "cell_type": "code",
   "execution_count": 3,
   "id": "7b56fa84",
   "metadata": {},
   "outputs": [
    {
     "name": "stdout",
     "output_type": "stream",
     "text": [
      "***Annual Temperature Report for Seoul in 2022***\n",
      "Average Temperature:  13.26 Celsius\n",
      "Average Minimum Temperature:  -11.8 Celsius\n",
      "Average Maximum Temperature:  30.9 Celsius\n"
     ]
    }
   ],
   "source": [
    "if __name__ == \"__main__\":\n",
    "\n",
    "    import csv\n",
    "    f = open('q1.csv','r',encoding='ansi')\n",
    "    data = csv.reader(f)\n",
    "    header = next(data)\n",
    "\n",
    "    num = 0\n",
    "    sum = 0\n",
    "    max = -999\n",
    "    min = 999\n",
    "    for row in data:\n",
    "        if row[-3] == '' or row[-2] == '' or row[-1] == '':\n",
    "            num = num - 1\n",
    "        else:\n",
    "            row[-3] = float(row[-3])\n",
    "            sum = sum + row[-3]\n",
    "            if max < row[-3]:\n",
    "                max = row[-3]\n",
    "            if min > row[-3]:\n",
    "                min = row[-3]\n",
    "            \n",
    "        num = num + 1\n",
    "    Yaver = sum / num\n",
    "    Yaver = round(Yaver,2)\n",
    "    print(\"***Annual Temperature Report for Seoul in 2022***\")\n",
    "    print(\"Average Temperature: \",Yaver,\"Celsius\")\n",
    "    print(\"Average Minimum Temperature: \",min,\"Celsius\")\n",
    "    print(\"Average Maximum Temperature: \",max,\"Celsius\")\n",
    "\n",
    "\n",
    "    f.close()\n"
   ]
  },
  {
   "cell_type": "code",
   "execution_count": null,
   "id": "90b9be71",
   "metadata": {},
   "outputs": [],
   "source": []
  }
 ],
 "metadata": {
  "kernelspec": {
   "display_name": "Python 3 (ipykernel)",
   "language": "python",
   "name": "python3"
  },
  "language_info": {
   "codemirror_mode": {
    "name": "ipython",
    "version": 3
   },
   "file_extension": ".py",
   "mimetype": "text/x-python",
   "name": "python",
   "nbconvert_exporter": "python",
   "pygments_lexer": "ipython3",
   "version": "3.9.13"
  }
 },
 "nbformat": 4,
 "nbformat_minor": 5
}
