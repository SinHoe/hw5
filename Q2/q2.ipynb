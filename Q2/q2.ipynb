{
 "cells": [
  {
   "cell_type": "code",
   "execution_count": 8,
   "id": "63485c83",
   "metadata": {},
   "outputs": [
    {
     "name": "stdout",
     "output_type": "stream",
     "text": [
      "***Annual Temperature Report for Seoul in 2022***\n",
      "Day with Largest Temperature Variation:  2022-11-29\n",
      "Maximum Temperature Difference:  16.6 Celsius\n",
      "Day with Smallest Temperature Variation:  2022-06-29\n",
      "Minimum Temperature Difference:  1.7 Celsius\n"
     ]
    }
   ],
   "source": [
    "if __name__ == \"__main__\":\n",
    "\n",
    "    import csv\n",
    "    f = open('q2.csv','r',encoding='ansi')\n",
    "    data = csv.reader(f)\n",
    "    header = next(data)\n",
    "    \n",
    "    max = -999\n",
    "    min = 999\n",
    "    max_date = ''\n",
    "    min_date = ''\n",
    "    for row in data:\n",
    "        if row[-3] == '' or row[-2] == '' or row[-1] == '':\n",
    "            ;\n",
    "        else:\n",
    "            row[-2] = float(row[-2])\n",
    "            row[-1] = float(row[-1])\n",
    "            differ = row[-1] - row [-2]\n",
    "            differ = round(differ,2)\n",
    "            if max < differ:\n",
    "                max = differ\n",
    "                max_date = row[-5]\n",
    "            if min > differ:\n",
    "                min = differ\n",
    "                min_date = row[-5]\n",
    "    print(\"***Annual Temperature Report for Seoul in 2022***\")\n",
    "    print(\"Day with Largest Temperature Variation: \",max_date)\n",
    "    print(\"Maximum Temperature Difference: \",max,\"Celsius\")\n",
    "    print(\"Day with Smallest Temperature Variation: \",min_date)\n",
    "    print(\"Minimum Temperature Difference: \",min,\"Celsius\")\n",
    "            \n",
    "            \n",
    "        "
   ]
  },
  {
   "cell_type": "code",
   "execution_count": null,
   "id": "8988e4a0",
   "metadata": {},
   "outputs": [],
   "source": []
  },
  {
   "cell_type": "code",
   "execution_count": null,
   "id": "7ed8dd38",
   "metadata": {},
   "outputs": [],
   "source": []
  },
  {
   "cell_type": "code",
   "execution_count": null,
   "id": "d790a558",
   "metadata": {},
   "outputs": [],
   "source": []
  },
  {
   "cell_type": "code",
   "execution_count": null,
   "id": "7fec8a7e",
   "metadata": {},
   "outputs": [],
   "source": []
  }
 ],
 "metadata": {
  "kernelspec": {
   "display_name": "Python 3 (ipykernel)",
   "language": "python",
   "name": "python3"
  },
  "language_info": {
   "codemirror_mode": {
    "name": "ipython",
    "version": 3
   },
   "file_extension": ".py",
   "mimetype": "text/x-python",
   "name": "python",
   "nbconvert_exporter": "python",
   "pygments_lexer": "ipython3",
   "version": "3.9.13"
  }
 },
 "nbformat": 4,
 "nbformat_minor": 5
}
