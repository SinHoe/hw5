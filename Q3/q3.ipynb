{
 "cells": [
  {
   "cell_type": "code",
   "execution_count": 24,
   "id": "d90f8fd2",
   "metadata": {},
   "outputs": [
    {
     "name": "stdout",
     "output_type": "stream",
     "text": [
      "***Subway Report for Seoul on March 2023***\n",
      "1st Busiest Line: Line 2 ( 85620512 )\n",
      "2nd Busiest Line: Line 5 ( 39671990 )\n",
      "1st Least used Line: Line 8 ( 11863928 )\n",
      "2nd Least used Line: Line 1 ( 14705833 )\n"
     ]
    }
   ],
   "source": [
    "if __name__ == \"__main__\":\n",
    "\n",
    "    import csv\n",
    "    import copy\n",
    "    f = open('q3.csv','r',encoding='ansi')\n",
    "    data = csv.reader(f)\n",
    "    header = next(data)\n",
    "    \n",
    "    num_list = [0,0,0,0,0,0,0,0,0]\n",
    "    for row in data:\n",
    "        row[-2] = int(row[-2])\n",
    "        row[-3] = int(row[-3])\n",
    "        if row[-6] == '1호선':\n",
    "            num_list[0] = num_list[0] + row[-2] + row[-3]\n",
    "        if row[-6] == '2호선':\n",
    "            num_list[1] = num_list[1] + row[-2] + row[-3]\n",
    "        if row[-6] == '3호선':\n",
    "            num_list[2] = num_list[2] + row[-2] + row[-3]\n",
    "        if row[-6] == '4호선':\n",
    "            num_list[3] = num_list[3] + row[-2] + row[-3]\n",
    "        if row[-6] == '5호선':\n",
    "            num_list[4] = num_list[4] + row[-2] + row[-3]\n",
    "        if row[-6] == '6호선':\n",
    "            num_list[5] = num_list[5] + row[-2] + row[-3]\n",
    "        if row[-6] == '7호선':\n",
    "            num_list[6] = num_list[6] + row[-2] + row[-3]\n",
    "        if row[-6] == '8호선':\n",
    "            num_list[7] = num_list[7] + row[-2] + row[-3]\n",
    "        if row[-6] == '9호선':\n",
    "            num_list[8] = num_list[8] + row[-2] + row[-3]\n",
    "    \n",
    "    num_sort = copy.deepcopy(num_list)\n",
    "    num_sort.sort()\n",
    "    \n",
    "    max1_line = 0\n",
    "    max2_line = 0\n",
    "    min1_line = 0\n",
    "    min2_line = 0\n",
    "    \n",
    "    for i in range(0,9):\n",
    "        if num_list[i] == num_sort[8]:\n",
    "            max1_line = i+1\n",
    "        if num_list[i] == num_sort[7]:\n",
    "            max2_line = i+1\n",
    "        if num_list[i] == num_sort[0]:\n",
    "            min1_line = i+1\n",
    "        if num_list[i] == num_sort[1]:\n",
    "            min2_line = i+1\n",
    "        \n",
    "            \n",
    "        \n",
    "    print(\"***Subway Report for Seoul on March 2023***\")\n",
    "    print(\"1st Busiest Line: Line\",max1_line,\"(\",num_sort[8],\")\")\n",
    "    print(\"2nd Busiest Line: Line\",max2_line,\"(\",num_sort[7],\")\")\n",
    "    print(\"1st Least used Line: Line\",min1_line,\"(\",num_sort[0],\")\")\n",
    "    print(\"2nd Least used Line: Line\",min2_line,\"(\",num_sort[1],\")\")\n",
    "        \n",
    "                \n",
    "    \n",
    "        "
   ]
  },
  {
   "cell_type": "code",
   "execution_count": null,
   "id": "b57e040d",
   "metadata": {},
   "outputs": [],
   "source": []
  },
  {
   "cell_type": "code",
   "execution_count": null,
   "id": "d8f0ccd2",
   "metadata": {},
   "outputs": [],
   "source": []
  }
 ],
 "metadata": {
  "kernelspec": {
   "display_name": "Python 3 (ipykernel)",
   "language": "python",
   "name": "python3"
  },
  "language_info": {
   "codemirror_mode": {
    "name": "ipython",
    "version": 3
   },
   "file_extension": ".py",
   "mimetype": "text/x-python",
   "name": "python",
   "nbconvert_exporter": "python",
   "pygments_lexer": "ipython3",
   "version": "3.9.13"
  }
 },
 "nbformat": 4,
 "nbformat_minor": 5
}
