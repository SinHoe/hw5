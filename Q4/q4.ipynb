{
 "cells": [
  {
   "cell_type": "code",
   "execution_count": 4,
   "id": "85adf6ff",
   "metadata": {},
   "outputs": [
    {
     "name": "stdout",
     "output_type": "stream",
     "text": [
      "***Subway Report for Seoul on March 2023***\n",
      "Line 1:\n",
      "Busiest Station:  서울역 ( 3084227 )\n",
      "Least used Station:  동묘앞 ( 658566 )\n",
      "Line 2:\n",
      "Busiest Station:  강남 ( 4690366 )\n",
      "Least used Station:  도림천 ( 80084 )\n",
      "Line 3:\n",
      "Busiest Station:  고속터미널 ( 2886887 )\n",
      "Least used Station:  충무로 ( 48 )\n",
      "Line 4:\n",
      "Busiest Station:  혜화 ( 2286709 )\n",
      "Least used Station:  남태령 ( 79916 )\n"
     ]
    }
   ],
   "source": [
    "if __name__ == \"__main__\":\n",
    "\n",
    "    import csv\n",
    "    import copy\n",
    "    f = open('q4.csv','r',encoding='ansi')\n",
    "    data = csv.reader(f)\n",
    "    header = next(data)\n",
    "    \n",
    "    max1 = [-1,'']\n",
    "    min1 = [9999999,'']\n",
    "    max2 = [-1,'']\n",
    "    min2 = [9999999,'']\n",
    "    max3 = [-1,'']\n",
    "    min3 = [9999999,'']\n",
    "    max4 = [-1,'']\n",
    "    min4 = [9999999,''] \n",
    "    \n",
    "    for row in data:\n",
    "        row[-2] = int(row[-2])\n",
    "        row[-3] = int(row[-3])\n",
    "        num = row[-2] + row[-3]\n",
    "        \n",
    "        if row[-6] == '1호선':\n",
    "            if max1[0] < num:\n",
    "                max1[0] = num\n",
    "                max1[1] = row[-4]\n",
    "            if min1[0] > num:\n",
    "                min1[0] = num\n",
    "                min1[1] = row[-4]\n",
    "                \n",
    "        if row[-6] == '2호선':\n",
    "            if max2[0] < num:\n",
    "                max2[0] = num\n",
    "                max2[1] = row[-4]\n",
    "            if min2[0] > num:\n",
    "                min2[0] = num\n",
    "                min2[1] = row[-4]\n",
    "                \n",
    "        if row[-6] == '3호선':\n",
    "            if max3[0] < num:\n",
    "                max3[0] = num\n",
    "                max3[1] = row[-4]\n",
    "            if min3[0] > num:\n",
    "                min3[0] = num\n",
    "                min3[1] = row[-4]\n",
    "                \n",
    "        if row[-6] == '4호선':\n",
    "            if max4[0] < num:\n",
    "                max4[0] = num\n",
    "                max4[1] = row[-4]\n",
    "            if min4[0] > num:\n",
    "                min4[0] = num\n",
    "                min4[1] = row[-4]\n",
    "    print(\"***Subway Report for Seoul on March 2023***\")\n",
    "    print(\"Line 1:\")\n",
    "    print(\"Busiest Station: \",max1[1],\"(\",max1[0],\")\")\n",
    "    print(\"Least used Station: \",min1[1],\"(\",min1[0],\")\")\n",
    "    print(\"Line 2:\")\n",
    "    print(\"Busiest Station: \",max2[1],\"(\",max2[0],\")\")\n",
    "    print(\"Least used Station: \",min2[1],\"(\",min2[0],\")\")\n",
    "    print(\"Line 3:\")\n",
    "    print(\"Busiest Station: \",max3[1],\"(\",max3[0],\")\")\n",
    "    print(\"Least used Station: \",min3[1],\"(\",min3[0],\")\")\n",
    "    print(\"Line 4:\")\n",
    "    print(\"Busiest Station: \",max4[1],\"(\",max4[0],\")\")\n",
    "    print(\"Least used Station: \",min4[1],\"(\",min4[0],\")\")"
   ]
  },
  {
   "cell_type": "code",
   "execution_count": null,
   "id": "457efd72",
   "metadata": {},
   "outputs": [],
   "source": []
  }
 ],
 "metadata": {
  "kernelspec": {
   "display_name": "Python 3 (ipykernel)",
   "language": "python",
   "name": "python3"
  },
  "language_info": {
   "codemirror_mode": {
    "name": "ipython",
    "version": 3
   },
   "file_extension": ".py",
   "mimetype": "text/x-python",
   "name": "python",
   "nbconvert_exporter": "python",
   "pygments_lexer": "ipython3",
   "version": "3.9.13"
  }
 },
 "nbformat": 4,
 "nbformat_minor": 5
}
